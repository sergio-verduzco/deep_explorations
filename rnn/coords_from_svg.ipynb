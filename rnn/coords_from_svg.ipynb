{
 "cells": [
  {
   "cell_type": "code",
   "execution_count": null,
   "id": "7ebb3f4d-7bd1-4b30-ae63-636ad613e9c1",
   "metadata": {
    "tags": []
   },
   "outputs": [],
   "source": [
    "import svgpathtools\n",
    "import numpy as np\n",
    "import matplotlib.pyplot as plt\n",
    "import pickle\n",
    "%cd ./data/"
   ]
  },
  {
   "cell_type": "code",
   "execution_count": null,
   "id": "868037e0-63b9-4435-8113-4787914ad254",
   "metadata": {
    "tags": []
   },
   "outputs": [],
   "source": [
    "def coords_from_svg(svg_file:str) -> np.array:\n",
    "    \"\"\" Extract coordinates of the paths in an svg file.\n",
    "\n",
    "        The coordinates will be normalized to have zero mean and\n",
    "        standard deviation of roughly 1 while keeping the X/Y proportions.\n",
    "        Also, the Y axis will be reversed.\n",
    "\n",
    "        Args:\n",
    "            svg_file: path/name of the svg file\n",
    "        Returns:\n",
    "            List of Numpy arrays. Each array will have shape (k,2), where\n",
    "            the rows correspond to different points, and the columns \n",
    "            correspond to the X, Y coordinates.\n",
    "    \"\"\"\n",
    "    # extracting\n",
    "    paths, attributes = svgpathtools.svg2paths(svg_file)\n",
    "    path_coordinates = []\n",
    "    for path in paths:\n",
    "        curr_path = []\n",
    "        for segment in path:\n",
    "            if isinstance(segment, svgpathtools.Line):\n",
    "                start = segment.start.real, segment.start.imag\n",
    "                end = segment.end.real, segment.end.imag\n",
    "                curr_path.extend([start, end])\n",
    "            elif isinstance(segment, svgpathtools.CubicBezier):\n",
    "                start = segment.start.real, segment.start.imag\n",
    "                control1 = segment.control1.real, segment.control1.imag\n",
    "                control2 = segment.control2.real, segment.control2.imag\n",
    "                end = segment.end.real, segment.end.imag\n",
    "                curr_path.extend([start, control1, control2, end])\n",
    "        path_coordinates.append(np.array(curr_path))\n",
    "    # normalizing\n",
    "    for path in path_coordinates:\n",
    "        path -= path.mean(axis=0)\n",
    "        path[:, 1] = -path[:, 1]\n",
    "        path[:] = path / (0.5 * path.std(axis=0).sum() +  1e-12)\n",
    "        \n",
    "    return path_coordinates\n",
    "\n",
    "def limit_length(coords:np.array, max_len:int) -> np.array:\n",
    "    \"\"\" Limit the length of an input array using stradded sampling.\n",
    "    \n",
    "        Args:\n",
    "            coords: array of size (k, 2)\n",
    "            max_len: maximum length (first dimension size) for output\n",
    "        Returns:\n",
    "            coords[::j, :], where j is the smallest stride size that still\n",
    "            allows the output to have length smaller than max_len.\n",
    "    \"\"\"\n",
    "    k, c = coords.shape\n",
    "    j = int(np.ceil(k / max_len))\n",
    "    return coords[::j]"
   ]
  },
  {
   "cell_type": "code",
   "execution_count": null,
   "id": "82f563bb-c648-4830-92b5-eaa3689b165e",
   "metadata": {
    "tags": []
   },
   "outputs": [],
   "source": [
    "# parameters\n",
    "max_n_points = 1000\n",
    "# svg_filename = 'circle2_triangle2_eight2_random.svg'\n",
    "svg_filename = 'cte8.svg'\n",
    "\n",
    "# load data\n",
    "coords_list = coords_from_svg(svg_filename)\n",
    "\n",
    "# limit number of data points\n",
    "coords = limit_length(coords_list[1], max_n_points)\n",
    "\n",
    "# save Numpy array\n",
    "pkl_filename = svg_filename[:-4] + '.pkl'\n",
    "with open(pkl_filename, 'wb') as f:\n",
    "    pickle.dump(coords, f)"
   ]
  },
  {
   "cell_type": "code",
   "execution_count": null,
   "id": "9976f4e9-322f-490f-9392-d691ce28dd97",
   "metadata": {
    "tags": []
   },
   "outputs": [],
   "source": [
    "# plot\n",
    "fig = plt.figure()\n",
    "plt.axis('equal')\n",
    "plt.plot(coords[:,0], coords[:,1])"
   ]
  },
  {
   "cell_type": "code",
   "execution_count": null,
   "id": "085eb6af-37ef-493b-b701-aad7e765e582",
   "metadata": {
    "tags": []
   },
   "outputs": [],
   "source": [
    "# load a saved array\n",
    "fname = 'eye.pkl'\n",
    "with open(fname, 'rb') as f:\n",
    "    loaded = pickle.load(f)"
   ]
  },
  {
   "cell_type": "code",
   "execution_count": null,
   "id": "0d62d8a8-e0be-4336-89fa-c803ce412ccd",
   "metadata": {
    "tags": []
   },
   "outputs": [],
   "source": [
    "# plot the loaded array\n",
    "fig = plt.figure()\n",
    "plt.axis('equal')\n",
    "plt.plot(loaded[:,0], loaded[:,1])"
   ]
  },
  {
   "cell_type": "code",
   "execution_count": null,
   "id": "f2bb8c63-0b5e-4742-894e-e45791c4f7f6",
   "metadata": {},
   "outputs": [],
   "source": []
  }
 ],
 "metadata": {
  "kernelspec": {
   "display_name": "Python 3 (ipykernel)",
   "language": "python",
   "name": "python3"
  },
  "language_info": {
   "codemirror_mode": {
    "name": "ipython",
    "version": 3
   },
   "file_extension": ".py",
   "mimetype": "text/x-python",
   "name": "python",
   "nbconvert_exporter": "python",
   "pygments_lexer": "ipython3",
   "version": "3.8.10"
  }
 },
 "nbformat": 4,
 "nbformat_minor": 5
}
