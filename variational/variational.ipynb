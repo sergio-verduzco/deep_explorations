{
 "cells": [
  {
   "cell_type": "markdown",
   "id": "21e72cd6-4d0d-4dd9-a049-b235a1026609",
   "metadata": {},
   "source": [
    "# variational.ipynb\n",
    "A variational autoenconder writing the loss function from Eq. (7) in   \n",
    "[Doersch 2016, Tutorial on Variational Autoencoders](https://arxiv.org/pdf/1606.05908.pdf)\n",
    "\n",
    "\n",
    "-Sergio Verduzco  \n",
    "June 2023\n",
    "\n"
   ]
  },
  {
   "cell_type": "markdown",
   "id": "4bf8250b-a8e9-46be-9983-eafca26ae91c",
   "metadata": {},
   "source": [
    "### Some resources I consulted:\n",
    "https://youtu.be/uaaqyVS9-rM  \n",
    "https://www.youtube.com/watch?v=YV9D3TWY5Zo  \n",
    "https://www.youtube.com/watch?v=8wrLjnQ7EWQ  \n",
    "https://www.youtube.com/watch?v=VELQT1-hILo  \n",
    "https://github.com/karpathy/examples/blob/master/vae/main.py  \n",
    "https://arxiv.org/pdf/1906.02691.pdf"
   ]
  },
  {
   "cell_type": "code",
   "execution_count": 1,
   "id": "6d3813c5-1e28-4c62-bac4-2ccba7fb6951",
   "metadata": {
    "tags": []
   },
   "outputs": [],
   "source": [
    "import torch\n",
    "from torch import nn\n",
    "import torchvision\n",
    "import torchvision.transforms as transforms\n",
    "import torch.optim as optim\n",
    "import torch.nn.functional as F\n",
    "import numpy as np\n",
    "import matplotlib.pyplot as plt\n",
    "import lovely_tensors as lt\n",
    "lt.monkey_patch()"
   ]
  },
  {
   "cell_type": "code",
   "execution_count": 2,
   "id": "74c6cf96-4925-4352-a104-6b9e57498600",
   "metadata": {
    "tags": []
   },
   "outputs": [
    {
     "name": "stdout",
     "output_type": "stream",
     "text": [
      "device = cuda:0\n"
     ]
    }
   ],
   "source": [
    "# Preliminary parameters\n",
    "data_dir = '/home/z/Downloads/data/'  \n",
    "device = torch.device('cuda:0' if torch.cuda.is_available() else 'cpu')\n",
    "print(f\"device = {device}\")\n",
    "batch_size = 64\n",
    "dataset = 'MNIST'  # MNIST. CIFAR10 not implemented yet."
   ]
  },
  {
   "cell_type": "markdown",
   "id": "ec5f6263-78bf-48fc-9d9a-4be4e3787d5d",
   "metadata": {},
   "source": [
    "Tricky things with the cell above:\n",
    "* Batch size\n",
    "\n",
    "\n",
    "Tricky things with the cell below:\n",
    "* Which normalization value to use?\n",
    "  * Must ensure it is consistent with the output nonlinearity of the decoder\n",
    "  * Turns out `ToTensor` sets the values between 0 and 1, and this is enough. Further normalizing may hurt performance."
   ]
  },
  {
   "cell_type": "code",
   "execution_count": 3,
   "id": "af30407f-1787-4a5e-aea2-6f97e4c84613",
   "metadata": {
    "tags": []
   },
   "outputs": [
    {
     "name": "stderr",
     "output_type": "stream",
     "text": [
      "2.0%"
     ]
    },
    {
     "name": "stdout",
     "output_type": "stream",
     "text": [
      "Downloading http://yann.lecun.com/exdb/mnist/train-images-idx3-ubyte.gz\n",
      "Downloading http://yann.lecun.com/exdb/mnist/train-images-idx3-ubyte.gz to /home/z/Downloads/data/MNIST/raw/train-images-idx3-ubyte.gz\n"
     ]
    },
    {
     "name": "stderr",
     "output_type": "stream",
     "text": [
      "100.0%\n"
     ]
    },
    {
     "name": "stdout",
     "output_type": "stream",
     "text": [
      "Extracting /home/z/Downloads/data/MNIST/raw/train-images-idx3-ubyte.gz to /home/z/Downloads/data/MNIST/raw\n"
     ]
    },
    {
     "name": "stderr",
     "output_type": "stream",
     "text": [
      "100.0%"
     ]
    },
    {
     "name": "stdout",
     "output_type": "stream",
     "text": [
      "\n",
      "Downloading http://yann.lecun.com/exdb/mnist/train-labels-idx1-ubyte.gz\n",
      "Downloading http://yann.lecun.com/exdb/mnist/train-labels-idx1-ubyte.gz to /home/z/Downloads/data/MNIST/raw/train-labels-idx1-ubyte.gz\n",
      "Extracting /home/z/Downloads/data/MNIST/raw/train-labels-idx1-ubyte.gz to /home/z/Downloads/data/MNIST/raw\n",
      "\n",
      "Downloading http://yann.lecun.com/exdb/mnist/t10k-images-idx3-ubyte.gz\n",
      "Downloading http://yann.lecun.com/exdb/mnist/t10k-images-idx3-ubyte.gz to /home/z/Downloads/data/MNIST/raw/t10k-images-idx3-ubyte.gz\n"
     ]
    },
    {
     "name": "stderr",
     "output_type": "stream",
     "text": [
      "\n",
      "100.0%\n"
     ]
    },
    {
     "name": "stdout",
     "output_type": "stream",
     "text": [
      "Extracting /home/z/Downloads/data/MNIST/raw/t10k-images-idx3-ubyte.gz to /home/z/Downloads/data/MNIST/raw\n",
      "\n",
      "Downloading http://yann.lecun.com/exdb/mnist/t10k-labels-idx1-ubyte.gz\n"
     ]
    },
    {
     "name": "stderr",
     "output_type": "stream",
     "text": [
      "100.0%"
     ]
    },
    {
     "name": "stdout",
     "output_type": "stream",
     "text": [
      "Downloading http://yann.lecun.com/exdb/mnist/t10k-labels-idx1-ubyte.gz to /home/z/Downloads/data/MNIST/raw/t10k-labels-idx1-ubyte.gz\n",
      "Extracting /home/z/Downloads/data/MNIST/raw/t10k-labels-idx1-ubyte.gz to /home/z/Downloads/data/MNIST/raw\n",
      "\n"
     ]
    },
    {
     "name": "stderr",
     "output_type": "stream",
     "text": [
      "\n"
     ]
    }
   ],
   "source": [
    "if dataset == 'CIFAR10':  # ignore!\n",
    "    transform = transforms.Compose(\n",
    "        [transforms.ToTensor(),\n",
    "         transforms.Normalize((0.5, 0.5, 0.5), (0.5, 0.5, 0.5))])\n",
    "    trainset = torchvision.datasets.CIFAR10(root=data_dir, train=True, download=True, transform=transform)\n",
    "    #testset = torchvision.datasets.CIFAR10(root=data_dir, train=False, download=True, transform=transform)\n",
    "    classes = ('plane', 'car', 'bird', 'cat',\n",
    "           'deer', 'dog', 'frog', 'horse', 'ship', 'truck')\n",
    "elif dataset == 'MNIST':\n",
    "    transform = transforms.Compose(\n",
    "        [transforms.ToTensor(),\n",
    "         #transforms.Normalize((1.), (0.5)),\n",
    "         torch.squeeze])\n",
    "    trainset = torchvision.datasets.MNIST(root=data_dir, train=True, download=True, transform=transform)\n",
    "    #testset = torchvision.datasets.MNIST(root=data_dir, train=False, download=True, transform=transform)\n",
    "else:\n",
    "    raise ValueError(\"Specify a valid dataset\")\n",
    "\n",
    "trainloader = torch.utils.data.DataLoader(trainset,\n",
    "                                          batch_size=batch_size,\n",
    "                                          shuffle=True,\n",
    "                                          num_workers=2)\n",
    "# testloader = torch.utils.data.DataLoader(testset,\n",
    "#                                          batch_size=batch_size,\n",
    "#                                          shuffle=False,\n",
    "#                                          num_workers=2)\n"
   ]
  },
  {
   "cell_type": "code",
   "execution_count": 4,
   "id": "43a7ce76-907c-42a0-881d-73fcd874f1c5",
   "metadata": {
    "tags": []
   },
   "outputs": [],
   "source": [
    "class FFP(nn.Module):\n",
    "    \"\"\" A feedforward perceptron. \"\"\"\n",
    "    def __init__(self, sizes, nltypes, bias=True):\n",
    "        \"\"\"\n",
    "            sizes: list with size of each layer.\n",
    "            nltypes: list with nonlinearity type for each inner or\n",
    "                output layer. Entries are 'relu', 'sig', or 'tanh'.\n",
    "            bias: whether the layers have a bias unit\n",
    "        \"\"\"\n",
    "        assert len(sizes)-1 == len(nltypes), \"length mismatch in nltypes, sizes\"\n",
    "        super(FFP, self).__init__()\n",
    "        # Add activation functions\n",
    "        self.nlfs = []\n",
    "        for nltype in nltypes:\n",
    "            if nltype == \"relu\":\n",
    "                self.nlfs.append(nn.ReLU())\n",
    "            elif nltype == \"sig\":\n",
    "                self.nlfs.append(nn.Sigmoid())\n",
    "            elif nltype == \"tanh\":\n",
    "                self.nlfs.append(nn.Tanh())\n",
    "            elif nltype == \"linear\":\n",
    "                self.nlfs.append(\"linear\")\n",
    "            else:\n",
    "                raise ValueError(f\"unknown nonlinearity {nltype}\")\n",
    "        # create layers\n",
    "        self.bias = bias\n",
    "        self.sizes = sizes\n",
    "        layers = []\n",
    "        for lidx in range(1,len(sizes)):\n",
    "            layers.append(nn.Linear(sizes[lidx-1], sizes[lidx], bias=bias))\n",
    "        self.layers = nn.ModuleList(layers)\n",
    "                \n",
    "    def forward(self, x):\n",
    "        for lidx, layer in enumerate(self.layers):\n",
    "            if self.nlfs[lidx] == \"linear\":\n",
    "                x = layer(x)\n",
    "            else:\n",
    "                x = self.nlfs[lidx](layer(x))\n",
    "        return x\n",
    "\n",
    "class normal_encoder(nn.Module):\n",
    "    \"\"\" A FFP that outputs parameters for a multivariate normal distribution.\n",
    "    \n",
    "        This is the same as the FFP class, except that the output layer is\n",
    "        duplicated by concatenating an extra set of units with sigmoidal \n",
    "        activation functions. This extra set of units corresponds to the\n",
    "        entries of a diagonal covariance matrix, whereas the regular outputs\n",
    "        corresponds to the means.\n",
    "    \"\"\"\n",
    "    def __init__(self, sizes, nltypes, bias=True):\n",
    "        \"\"\"\n",
    "            sizes: list with size of each layer.\n",
    "            nltypes: list with nonlinearity type for each inner or\n",
    "                output layer. Entries are 'relu', 'sig', 'tanh', or 'linear'.\n",
    "            bias: whether the layers have a bias unit\n",
    "        \"\"\"\n",
    "        assert len(sizes)-1 == len(nltypes), \"length mismatch in nltypes, sizes\"\n",
    "        super(normal_encoder, self).__init__()\n",
    "        self.n_layers = len(nltypes)\n",
    "        # Add activation functions\n",
    "        self.nlfs = []\n",
    "        for nltype in nltypes:\n",
    "            if nltype == \"relu\":\n",
    "                self.nlfs.append(nn.ReLU())\n",
    "            elif nltype == \"sig\":\n",
    "                self.nlfs.append(nn.Sigmoid())\n",
    "            elif nltype == \"tanh\":\n",
    "                self.nlfs.append(nn.Tanh())\n",
    "            elif nltype == \"linear\":\n",
    "                self.nlfs.append(\"linear\")\n",
    "            else:\n",
    "                raise ValueError(f\"unknown nonlinearity {nltype}\")\n",
    "        # create layers\n",
    "        self.bias = bias\n",
    "        self.sizes = sizes\n",
    "        layers = []\n",
    "        for lidx in range(1,len(sizes)):\n",
    "            layers.append(nn.Linear(sizes[lidx-1], sizes[lidx], bias=bias))\n",
    "        # the last element in layers will be the sigmoidal variance layer\n",
    "        layers.append(nn.Linear(sizes[-2], sizes[-1], bias=bias))\n",
    "        self.layers = nn.ModuleList(layers)\n",
    "                \n",
    "    def forward(self, x):\n",
    "        for lidx, layer in enumerate(self.layers[:-1]):\n",
    "            if lidx == self.n_layers - 1:\n",
    "                y = nn.Sigmoid()(self.layers[-1](x))\n",
    "            if self.nlfs[lidx] == \"linear\":\n",
    "                x = layer(x)\n",
    "            else:\n",
    "                x = self.nlfs[lidx](layer(x))\n",
    "        return torch.concatenate((x, y), axis=-1)\n",
    "        \n",
    "class standard_SGD():\n",
    "    \"\"\" An SGD optimizer for my FFP module. \"\"\"\n",
    "    def __init__(self, model, lr=0.1):\n",
    "        \"\"\"\n",
    "            model: an instance of the FFP class\n",
    "            lr: learning rate\n",
    "        \"\"\"\n",
    "        self.model = model\n",
    "        self.lr = lr\n",
    "        \n",
    "    def step(self):\n",
    "        \"\"\" Updates the model's parameters. \"\"\"\n",
    "        for lidx, layer in enumerate(self.model.layers, 1):\n",
    "            dw = self.lr * layer.weight.grad\n",
    "            with torch.no_grad():\n",
    "                layer.weight -= dw\n",
    "                if self.model.bias:\n",
    "                    layer.bias -= self.lr * layer.bias.grad\n",
    "            \n",
    "    def zero_grad(self):\n",
    "        for layer in self.model.layers:\n",
    "            layer.weight.grad.zero_()\n",
    "            if self.model.bias:\n",
    "                layer.bias.grad.zero_()\n",
    "\n",
    "def KL_Loss(mu:torch.tensor, sigma:torch.tensor, reduction='mean') -> float:\n",
    "    \"\"\" Encoder loss from the KL divergence.\n",
    "\n",
    "        The loss is the KL divergence between two multivariate\n",
    "        normals. The first has the given means, and a diagonal \n",
    "        variance matrix with the given sigma values. The second\n",
    "        is a multivariate normal zero mean and identity covariance\n",
    "        matrix.\n",
    "\n",
    "        One term that is not relevant for the computation of gradients\n",
    "        is removed from the loss (-k).\n",
    "        \n",
    "        Args:\n",
    "            mu: mean values, size (m,k), where m=minibatch size, k=dimension\n",
    "            sigma: variances, size (m,k)\n",
    "                   All values must be positive.\n",
    "            reduction: 'mean', 'sum', or None\n",
    "        Returns:\n",
    "            loss: KL divergence\n",
    "    \"\"\"\n",
    "    loss =  0.5 * (sigma.sum(axis=1) + (mu * mu).sum(axis=1) - sigma.prod(axis=1).log())\n",
    "    \n",
    "    if loss.dim() == 0:\n",
    "        return loss\n",
    "    if reduction == 'mean':\n",
    "        return loss.mean()\n",
    "    if reduction == 'sum':\n",
    "        return loss.sum()\n",
    "    if reduction == None:\n",
    "        return loss\n",
    "    raise ValueError(\"type of reduction was not understood.\")\n",
    "\n",
    "def distro_loss(mu:torch.tensor, sigma:torch.tensor, reduction='mean') -> float:\n",
    "    \"\"\" A MSE loss on the paramters of the multivariate normal.\n",
    "    \n",
    "    Args:\n",
    "            mu: mean values, size (m,k), where m=minibatch size, k=dimension\n",
    "            sigma: variances, size (m,k)\n",
    "                   All values must be positive.\n",
    "            reduction: 'mean', 'sum', or None\n",
    "        Returns:\n",
    "            norm of mu plus norm of (sigma - 1)\n",
    "    \"\"\"\n",
    "    loss = (mu * mu).sum() + (sigma - 1).pow(2)\n",
    "\n",
    "    if loss.dim() == 0:\n",
    "        return loss\n",
    "    if reduction == 'mean':\n",
    "        return loss.mean()\n",
    "    if reduction == 'sum':\n",
    "        return loss.sum()\n",
    "    if reduction == None:\n",
    "        return loss\n",
    "    raise ValueError(\"type of reduction was not understood.\")\n",
    "\n",
    "mse_loss = nn.MSELoss(reduction='mean')"
   ]
  },
  {
   "cell_type": "markdown",
   "id": "7593c9df-4d21-403b-a94c-4406f40278ad",
   "metadata": {},
   "source": [
    "Things that caused trouble with the cell above:\n",
    "* Handling the separation in the last encoder layer. Half the outputs are mu, half are sigma.\n",
    "* Ensuring that the sigma values of the encoder are always positive, and finding the right nonlinearity to use for the mu values.\n",
    "  * The answer is to use sigmoidal activation for sigma, and a linear layer for mu.\n",
    "\n",
    "\n",
    "Things that caused trouble with the cell below:\n",
    "* Size of the network and type of nonlinearity for each layer.\n",
    "  * Last layer of encoder must be able to produce both positive and negative values for mu, but only positive for sigma.\n",
    "  * One video said the last layer of the decoder should use sigmoid units because of the MNIST image encoding. When I was normalizing the input images, nothing worked for me until I used a linear output layer. After I stoped normalizing a sigmoidal was probably better.\n",
    "* Optimizer and learning rate"
   ]
  },
  {
   "cell_type": "code",
   "execution_count": 5,
   "id": "5d0eafbd-8cec-41a0-a113-ac5b426f52fc",
   "metadata": {
    "tags": []
   },
   "outputs": [],
   "source": [
    "# create the encoder and decoder\n",
    "enc_sizes = [784, 200, 100, 2]  # 20 means, 20 stds\n",
    "enc_types = ['tanh', 'relu', 'linear']\n",
    "encoder = normal_encoder(enc_sizes, enc_types, bias=True).to(device)\n",
    "\n",
    "dec_sizes = [2, 100, 200, 784]\n",
    "dec_types = ['tanh', 'relu', 'linear']\n",
    "decoder = FFP(dec_sizes, dec_types, bias=True).to(device)\n",
    "\n",
    "# Multivariate normal\n",
    "assert enc_sizes[-1] == dec_sizes[0], \"Check bottleneck sizes\"\n",
    "n_latent = dec_sizes[0]\n",
    "std_multi_normal = torch.distributions.MultivariateNormal(torch.zeros(n_latent), torch.eye(n_latent))\n",
    "\n",
    "# Optimizers\n",
    "# encoder_optim = standard_SGD(encoder, lr=0.001)\n",
    "# decoder_optim = standard_SGD(decoder, lr=0.001)\n",
    "encoder_optim = torch.optim.Adam(encoder.parameters(), lr=5e-4)\n",
    "decoder_optim = torch.optim.Adam(decoder.parameters(), lr=5e-4)\n",
    "# encoder_optim = torch.optim.SGD(encoder.parameters(), lr=0.1)\n",
    "# decoder_optim = torch.optim.SGD(decoder.parameters(), lr=0.1)\n"
   ]
  },
  {
   "cell_type": "code",
   "execution_count": 6,
   "id": "f1017f23-ce56-4752-bc85-f95d37eb4300",
   "metadata": {
    "editable": true,
    "slideshow": {
     "slide_type": ""
    },
    "tags": []
   },
   "outputs": [
    {
     "name": "stdout",
     "output_type": "stream",
     "text": [
      "----------------------------------------\n",
      "    latent error = 0.002696152776479721 up to example 12736\n",
      "    reconstruction error = 0.0625157281756401 up to example 12736\n",
      "    latent error = 0.00296276668086648 up to example 25536\n",
      "    reconstruction error = 0.05762692540884018 up to example 25536\n",
      "    latent error = 0.003186021000146866 up to example 38336\n",
      "    reconstruction error = 0.055440112948417664 up to example 38336\n",
      "    latent error = 0.003396489890292287 up to example 51136\n",
      "    reconstruction error = 0.054002854973077774 up to example 51136\n",
      "latent error = 0.0035270522348582745 in epoch 0\n",
      "reconstruction error = 0.05316968634724617 in epoch 0\n",
      "w = 0.0014656480634585023\n",
      "----------------------------------------\n",
      "    latent error = 0.00459688063710928 up to example 12736\n",
      "    reconstruction error = 0.04819637909531593 up to example 12736\n",
      "    latent error = 0.004724289756268263 up to example 25536\n",
      "    reconstruction error = 0.04786524921655655 up to example 25536\n",
      "    latent error = 0.00485497061163187 up to example 38336\n",
      "    reconstruction error = 0.04760599508881569 up to example 38336\n",
      "    latent error = 0.004987264517694712 up to example 51136\n",
      "    reconstruction error = 0.04734892398118973 up to example 51136\n",
      "latent error = 0.005071014165878296 in epoch 1\n",
      "reconstruction error = 0.04725637659430504 in epoch 1\n",
      "w = 0.0018613473512232304\n",
      "----------------------------------------\n",
      "    latent error = 0.005831510294228792 up to example 12736\n",
      "    reconstruction error = 0.04660211130976677 up to example 12736\n",
      "    latent error = 0.005936643574386835 up to example 25536\n",
      "    reconstruction error = 0.046236421912908554 up to example 25536\n",
      "    latent error = 0.0060455226339399815 up to example 38336\n",
      "    reconstruction error = 0.04616092890501022 up to example 38336\n",
      "    latent error = 0.006152463611215353 up to example 51136\n",
      "    reconstruction error = 0.04606416076421738 up to example 51136\n",
      "latent error = 0.00622614286839962 in epoch 2\n",
      "reconstruction error = 0.04595717415213585 in epoch 2\n",
      "w = 0.0022340253926813602\n",
      "----------------------------------------\n",
      "    latent error = 0.006911254953593016 up to example 12736\n",
      "    reconstruction error = 0.04562867060303688 up to example 12736\n",
      "    latent error = 0.006992730312049389 up to example 25536\n",
      "    reconstruction error = 0.04553456977009773 up to example 25536\n",
      "    latent error = 0.0070922840386629105 up to example 38336\n",
      "    reconstruction error = 0.04553690552711487 up to example 38336\n",
      "    latent error = 0.007196973077952862 up to example 51136\n",
      "    reconstruction error = 0.045486483722925186 up to example 51136\n",
      "latent error = 0.007261930499225855 in epoch 3\n",
      "reconstruction error = 0.045396286994218826 in epoch 3\n",
      "w = 0.002591725206002593\n",
      "----------------------------------------\n",
      "    latent error = 0.007876750081777573 up to example 12736\n",
      "    reconstruction error = 0.04547422006726265 up to example 12736\n",
      "    latent error = 0.007968761958181858 up to example 25536\n",
      "    reconstruction error = 0.04529239237308502 up to example 25536\n",
      "    latent error = 0.008066587150096893 up to example 38336\n",
      "    reconstruction error = 0.04518449679017067 up to example 38336\n",
      "    latent error = 0.008169316686689854 up to example 51136\n",
      "    reconstruction error = 0.04517379403114319 up to example 51136\n",
      "latent error = 0.008228753693401814 in epoch 4\n",
      "reconstruction error = 0.04506293311715126 in epoch 4\n",
      "w = 0.002937228884547949\n",
      "----------------------------------------\n",
      "    latent error = 0.008797344751656055 up to example 12736\n",
      "    reconstruction error = 0.04517706111073494 up to example 12736\n",
      "    latent error = 0.008883500471711159 up to example 25536\n",
      "    reconstruction error = 0.04499245434999466 up to example 25536\n",
      "    latent error = 0.00898995902389288 up to example 38336\n",
      "    reconstruction error = 0.04485051706433296 up to example 38336\n",
      "    latent error = 0.009072859771549702 up to example 51136\n",
      "    reconstruction error = 0.04489941895008087 up to example 51136\n",
      "latent error = 0.009128350764513016 in epoch 5\n",
      "reconstruction error = 0.04483717679977417 in epoch 5\n",
      "w = 0.0032721776515245438\n",
      "----------------------------------------\n",
      "    latent error = 0.009727728553116322 up to example 12736\n",
      "    reconstruction error = 0.04500161483883858 up to example 12736\n",
      "    latent error = 0.00979857612401247 up to example 25536\n",
      "    reconstruction error = 0.044752851128578186 up to example 25536\n",
      "    latent error = 0.009883408434689045 up to example 38336\n",
      "    reconstruction error = 0.04463007301092148 up to example 38336\n",
      "    latent error = 0.00997199211269617 up to example 51136\n",
      "    reconstruction error = 0.04467898607254028 up to example 51136\n",
      "latent error = 0.010019269771873951 in epoch 6\n",
      "reconstruction error = 0.04463610053062439 in epoch 6\n",
      "w = 0.003596882801502943\n",
      "----------------------------------------\n",
      "    latent error = 0.010586905293166637 up to example 12736\n",
      "    reconstruction error = 0.044962622225284576 up to example 12736\n",
      "    latent error = 0.010648800991475582 up to example 25536\n",
      "    reconstruction error = 0.044763971120119095 up to example 25536\n",
      "    latent error = 0.010713232681155205 up to example 38336\n",
      "    reconstruction error = 0.04468941316008568 up to example 38336\n",
      "    latent error = 0.010805046185851097 up to example 51136\n",
      "    reconstruction error = 0.04462296888232231 up to example 51136\n",
      "latent error = 0.010854454711079597 in epoch 7\n",
      "reconstruction error = 0.04453759640455246 in epoch 7\n",
      "w = 0.003912834450602531\n",
      "----------------------------------------\n",
      "    latent error = 0.011408694088459015 up to example 12736\n",
      "    reconstruction error = 0.04443087428808212 up to example 12736\n",
      "    latent error = 0.011489992029964924 up to example 25536\n",
      "    reconstruction error = 0.04448573291301727 up to example 25536\n",
      "    latent error = 0.011553512886166573 up to example 38336\n",
      "    reconstruction error = 0.04446573927998543 up to example 38336\n",
      "    latent error = 0.011633367277681828 up to example 51136\n",
      "    reconstruction error = 0.04449533298611641 up to example 51136\n",
      "latent error = 0.011680041439831257 in epoch 8\n",
      "reconstruction error = 0.04439089819788933 in epoch 8\n",
      "w = 0.004219664726406336\n",
      "----------------------------------------\n",
      "    latent error = 0.012219456024467945 up to example 12736\n",
      "    reconstruction error = 0.04448818415403366 up to example 12736\n",
      "    latent error = 0.01227657776325941 up to example 25536\n",
      "    reconstruction error = 0.044375229626894 up to example 25536\n",
      "    latent error = 0.012373221106827259 up to example 38336\n",
      "    reconstruction error = 0.04431390389800072 up to example 38336\n",
      "    latent error = 0.012441067956387997 up to example 51136\n",
      "    reconstruction error = 0.044276244938373566 up to example 51136\n",
      "latent error = 0.012466641142964363 in epoch 9\n",
      "reconstruction error = 0.04427829384803772 in epoch 9\n",
      "w = 0.004518056288361549\n"
     ]
    }
   ],
   "source": [
    "# training loop\n",
    "n_epochs = 10\n",
    "bsize = trainloader.batch_size\n",
    "w_bit = .1 / (n_epochs * (len(trainset) / bsize))\n",
    "w = 0.001\n",
    "for epoch in range(n_epochs):\n",
    "    accum_latent_error = 0.\n",
    "    accum_output_error = 0.\n",
    "    print(\"----------------------------------------\")\n",
    "    for i, data in enumerate(trainloader):\n",
    "        # retrieve the input\n",
    "        input = data[0].flatten(start_dim=1).to(device)  # (bsize, 784)\n",
    "        # feed the input to the encoder\n",
    "        latent = encoder(input)  # (bsize, 2*n_latent)\n",
    "        # extract means and diagonal of variance matrix\n",
    "        means = latent[:, :enc_sizes[-1]]  # (bsize, n_latent)\n",
    "        vars = latent[:, enc_sizes[-1]:]  # (bsize, n_latent)\n",
    "        # sample from the multivariate normal. Size = (bsize, n_latent)\n",
    "        #epsilons = std_multi_normal.sample((bsize,)).to(device)\n",
    "        epsilons = torch.randn_like(vars)\n",
    "        z = means + epsilons * vars\n",
    "        # feed the sample to the decoder\n",
    "        output = decoder(z)\n",
    "        # Gradient descent\n",
    "        # w += w_bit\n",
    "        latent_error = w * KL_Loss(means, vars)\n",
    "        # latent_error = w * distro_loss(means, vars)\n",
    "        output_error = mse_loss(input, output)\n",
    "        #output_error = F.binary_cross_entropy(input, output, reduction='mean')\n",
    "        error = latent_error + output_error\n",
    "        \n",
    "        error.backward()\n",
    "        \n",
    "        encoder_optim.step()\n",
    "        decoder_optim.step()\n",
    "\n",
    "        encoder_optim.zero_grad()\n",
    "        decoder_optim.zero_grad()\n",
    "\n",
    "        with torch.no_grad():\n",
    "            w += 1e-5 * (output_error - latent_error)\n",
    "\n",
    "        # display error\n",
    "        accum_latent_error += latent_error\n",
    "        accum_output_error += output_error\n",
    "        if (i+1) % 200 == 0:\n",
    "            print(f\"    latent error = {accum_latent_error/i} up to example {i*bsize}\")\n",
    "            print(f\"    reconstruction error = {accum_output_error/i} up to example {i*bsize}\")\n",
    "    accum_latent_error /= len(trainloader)\n",
    "    accum_output_error /= len(trainloader)\n",
    "    print(f\"latent error = {accum_latent_error} in epoch {epoch}\")\n",
    "    print(f\"reconstruction error = {accum_output_error} in epoch {epoch}\")\n",
    "    print(f\"w = {w}\")"
   ]
  },
  {
   "cell_type": "code",
   "execution_count": 7,
   "id": "b7102a6d-cbca-45a2-b20d-2f695378de8a",
   "metadata": {
    "tags": []
   },
   "outputs": [],
   "source": [
    "class image_generator():\n",
    "    def __init__(self, decoder, distribution):\n",
    "        self.decoder = decoder\n",
    "        self.distribution = distribution\n",
    "\n",
    "    def generate(self, show=True):\n",
    "        input = self.distribution.sample().to(device)\n",
    "        \n",
    "        output = decoder(input).reshape((28,28)).to('cpu').detach()\n",
    "        if show:\n",
    "            plt.imshow(output)\n",
    "        return output\n",
    "\n",
    "# empirical_multi_normal = torch.distributions.MultivariateNormal(0.0*torch.ones(n_latent), 0.7*torch.eye(n_latent))\n",
    "# imgen = image_generator(decoder, empirical_multi_normal)\n",
    "\n",
    "imgen = image_generator(decoder, std_multi_normal)"
   ]
  },
  {
   "cell_type": "code",
   "execution_count": 28,
   "id": "70c3ba7e-46db-4acc-a4de-53b6145a7dd0",
   "metadata": {
    "tags": []
   },
   "outputs": [
    {
     "data": {
      "image/png": "[encoded data removed]",
      "text/plain": [
       "<Figure size 640x480 with 1 Axes>"
      ]
     },
     "metadata": {},
     "output_type": "display_data"
    }
   ],
   "source": [
    "# run repeatedly to get many images\n",
    "val = imgen.generate()"
   ]
  },
  {
   "cell_type": "code",
   "execution_count": 29,
   "id": "d3a823af-0ce1-440f-b867-d161b02020de",
   "metadata": {
    "tags": []
   },
   "outputs": [
    {
     "name": "stdout",
     "output_type": "stream",
     "text": [
      "tensor[28, 28] n=784 (3.1Kb) x∈[-0.073, 1.001] μ=0.123 σ=0.242\n"
     ]
    }
   ],
   "source": [
    "# Test the decoder's statistitics. Should look like the \"input\" next cell\n",
    "print(val)\n",
    "#print(std_multi_normal.sample())"
   ]
  },
  {
   "cell_type": "code",
   "execution_count": 30,
   "id": "5a836279-58bb-4487-ae93-de6d8c8bc769",
   "metadata": {},
   "outputs": [
    {
     "name": "stdout",
     "output_type": "stream",
     "text": [
      "input =  tensor[1, 784] 3.1Kb x∈[0., 1.000] μ=0.138 σ=0.313 cuda:0\n",
      "mu =  tensor[2] μ=-0.709 σ=0.151 grad SliceBackward0 cuda:0 [-0.602, -0.816]\n",
      "sigma =  tensor[2] μ=0.138 σ=0.041 grad SliceBackward0 cuda:0 [0.109, 0.167]\n",
      "==========================\n",
      "input =  tensor[1, 784] 3.1Kb x∈[0., 1.000] μ=0.156 σ=0.329 cuda:0\n",
      "mu =  tensor[2] μ=0.813 σ=0.997 grad SliceBackward0 cuda:0 [1.518, 0.108]\n",
      "sigma =  tensor[2] μ=0.112 σ=0.026 grad SliceBackward0 cuda:0 [0.093, 0.131]\n",
      "==========================\n",
      "input =  tensor[1, 784] 3.1Kb x∈[0., 1.000] μ=0.097 σ=0.257 cuda:0\n",
      "mu =  tensor[2] μ=-0.096 σ=0.426 grad SliceBackward0 cuda:0 [0.205, -0.397]\n",
      "sigma =  tensor[2] μ=0.084 σ=0.024 grad SliceBackward0 cuda:0 [0.067, 0.101]\n",
      "==========================\n",
      "input =  tensor[1, 784] 3.1Kb x∈[0., 1.000] μ=0.086 σ=0.259 cuda:0\n",
      "mu =  tensor[2] μ=-0.820 σ=1.292 grad SliceBackward0 cuda:0 [-1.734, 0.094]\n",
      "sigma =  tensor[2] μ=0.155 σ=0.004 grad SliceBackward0 cuda:0 [0.158, 0.153]\n",
      "==========================\n",
      "input =  tensor[1, 784] 3.1Kb x∈[0., 1.000] μ=0.116 σ=0.292 cuda:0\n",
      "mu =  tensor[2] μ=0.219 σ=0.422 grad SliceBackward0 cuda:0 [-0.079, 0.518]\n",
      "sigma =  tensor[2] μ=0.089 σ=0.020 grad SliceBackward0 cuda:0 [0.075, 0.102]\n",
      "==========================\n"
     ]
    }
   ],
   "source": [
    "# Test the encoder's output statistics\n",
    "sample_num = 5\n",
    "\n",
    "for n in range(sample_num):\n",
    "    input = trainset[n][0].flatten().reshape(1,-1).to(device)\n",
    "    latent = encoder(input)\n",
    "    mu = latent[0, :n_latent]\n",
    "    sigma = latent[0, n_latent:]\n",
    "    print(\"input = \", end=\" \")\n",
    "    print(input)\n",
    "    print(\"mu = \", end=\" \")\n",
    "    print(mu)\n",
    "    print(\"sigma = \", end=\" \")\n",
    "    print(sigma)\n",
    "    print(\"==========================\")"
   ]
  },
  {
   "cell_type": "code",
   "execution_count": 71,
   "id": "9d3fc33a-8d25-49f1-822b-d7cc67cc8df6",
   "metadata": {},
   "outputs": [],
   "source": [
    "torch.save(decoder.state_dict(), 'decoder_distro_loss01.pth')"
   ]
  },
  {
   "cell_type": "code",
   "execution_count": null,
   "id": "1e223151-02a4-427c-872b-1578f1a1e4e2",
   "metadata": {},
   "outputs": [],
   "source": []
  }
 ],
 "metadata": {
  "kernelspec": {
   "display_name": "Python 3 (ipykernel)",
   "language": "python",
   "name": "python3"
  },
  "language_info": {
   "codemirror_mode": {
    "name": "ipython",
    "version": 3
   },
   "file_extension": ".py",
   "mimetype": "text/x-python",
   "name": "python",
   "nbconvert_exporter": "python",
   "pygments_lexer": "ipython3",
   "version": "3.8.10"
  }
 },
 "nbformat": 4,
 "nbformat_minor": 5
}
